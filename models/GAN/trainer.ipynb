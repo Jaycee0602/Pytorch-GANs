{
 "cells": [
  {
   "cell_type": "code",
   "execution_count": 1,
   "metadata": {},
   "outputs": [
    {
     "name": "stdout",
     "output_type": "stream",
     "text": [
      "False\n"
     ]
    }
   ],
   "source": [
    "# Pytorch, torchvision, numpy AND utils, network\n",
    "import os\n",
    "import numpy as np\n",
    "\n",
    "import torchvision.transforms as transforms\n",
    "from torchvision.utils import save_image\n",
    "from PIL import Image\n",
    "\n",
    "from torchvision import datasets\n",
    "from torch.autograd import Variable\n",
    "\n",
    "import torch.nn as nn\n",
    "import torch\n",
    "\n",
    "import network\n",
    "\n",
    "cuda = True if torch.cuda.is_available() else False\n",
    "print(cuda)\n",
    "\n",
    "os.makedirs('../images', exist_ok=True)"
   ]
  },
  {
   "cell_type": "code",
   "execution_count": 4,
   "metadata": {
    "scrolled": false
   },
   "outputs": [
    {
     "name": "stdout",
     "output_type": "stream",
     "text": [
      "Files already downloaded and verified\n",
      "[Epoch 0/200] [Batch 0/782] [D loss: 0.707374] [G loss: 0.712327]\n",
      "[Epoch 0/200] [Batch 1/782] [D loss: 0.611010] [G loss: 0.716718]\n",
      "[Epoch 0/200] [Batch 2/782] [D loss: 0.546047] [G loss: 0.721561]\n",
      "[Epoch 0/200] [Batch 3/782] [D loss: 0.449029] [G loss: 0.727565]\n",
      "[Epoch 0/200] [Batch 4/782] [D loss: 0.436311] [G loss: 0.733346]\n",
      "[Epoch 0/200] [Batch 5/782] [D loss: 0.389696] [G loss: 0.740293]\n",
      "[Epoch 0/200] [Batch 6/782] [D loss: 0.382840] [G loss: 0.747641]\n",
      "[Epoch 0/200] [Batch 7/782] [D loss: 0.368993] [G loss: 0.755613]\n",
      "[Epoch 0/200] [Batch 8/782] [D loss: 0.349990] [G loss: 0.764057]\n",
      "[Epoch 0/200] [Batch 9/782] [D loss: 0.363323] [G loss: 0.771294]\n"
     ]
    },
    {
     "ename": "KeyboardInterrupt",
     "evalue": "",
     "output_type": "error",
     "traceback": [
      "\u001b[1;31m---------------------------------------------------------------------------\u001b[0m",
      "\u001b[1;31mKeyboardInterrupt\u001b[0m                         Traceback (most recent call last)",
      "\u001b[1;32m<ipython-input-4-beb977709b5e>\u001b[0m in \u001b[0;36m<module>\u001b[1;34m()\u001b[0m\n\u001b[0;32m     86\u001b[0m         \u001b[1;31m# update generator\u001b[0m\u001b[1;33m\u001b[0m\u001b[1;33m\u001b[0m\u001b[0m\n\u001b[0;32m     87\u001b[0m         \u001b[0mgenerator_loss\u001b[0m\u001b[1;33m.\u001b[0m\u001b[0mbackward\u001b[0m\u001b[1;33m(\u001b[0m\u001b[1;33m)\u001b[0m\u001b[1;33m\u001b[0m\u001b[0m\n\u001b[1;32m---> 88\u001b[1;33m         \u001b[0moptimizer_G\u001b[0m\u001b[1;33m.\u001b[0m\u001b[0mstep\u001b[0m\u001b[1;33m(\u001b[0m\u001b[1;33m)\u001b[0m\u001b[1;33m\u001b[0m\u001b[0m\n\u001b[0m\u001b[0;32m     89\u001b[0m \u001b[1;33m\u001b[0m\u001b[0m\n\u001b[0;32m     90\u001b[0m         print (\"[Epoch %d/%d] [Batch %d/%d] [D loss: %f] [G loss: %f]\" \n",
      "\u001b[1;32mD:\\Anaconda3\\envs\\Pytorch\\lib\\site-packages\\torch\\optim\\adam.py\u001b[0m in \u001b[0;36mstep\u001b[1;34m(self, closure)\u001b[0m\n\u001b[0;32m     98\u001b[0m                     \u001b[0mdenom\u001b[0m \u001b[1;33m=\u001b[0m \u001b[0mmax_exp_avg_sq\u001b[0m\u001b[1;33m.\u001b[0m\u001b[0msqrt\u001b[0m\u001b[1;33m(\u001b[0m\u001b[1;33m)\u001b[0m\u001b[1;33m.\u001b[0m\u001b[0madd_\u001b[0m\u001b[1;33m(\u001b[0m\u001b[0mgroup\u001b[0m\u001b[1;33m[\u001b[0m\u001b[1;34m'eps'\u001b[0m\u001b[1;33m]\u001b[0m\u001b[1;33m)\u001b[0m\u001b[1;33m\u001b[0m\u001b[0m\n\u001b[0;32m     99\u001b[0m                 \u001b[1;32melse\u001b[0m\u001b[1;33m:\u001b[0m\u001b[1;33m\u001b[0m\u001b[0m\n\u001b[1;32m--> 100\u001b[1;33m                     \u001b[0mdenom\u001b[0m \u001b[1;33m=\u001b[0m \u001b[0mexp_avg_sq\u001b[0m\u001b[1;33m.\u001b[0m\u001b[0msqrt\u001b[0m\u001b[1;33m(\u001b[0m\u001b[1;33m)\u001b[0m\u001b[1;33m.\u001b[0m\u001b[0madd_\u001b[0m\u001b[1;33m(\u001b[0m\u001b[0mgroup\u001b[0m\u001b[1;33m[\u001b[0m\u001b[1;34m'eps'\u001b[0m\u001b[1;33m]\u001b[0m\u001b[1;33m)\u001b[0m\u001b[1;33m\u001b[0m\u001b[0m\n\u001b[0m\u001b[0;32m    101\u001b[0m \u001b[1;33m\u001b[0m\u001b[0m\n\u001b[0;32m    102\u001b[0m                 \u001b[0mbias_correction1\u001b[0m \u001b[1;33m=\u001b[0m \u001b[1;36m1\u001b[0m \u001b[1;33m-\u001b[0m \u001b[0mbeta1\u001b[0m \u001b[1;33m**\u001b[0m \u001b[0mstate\u001b[0m\u001b[1;33m[\u001b[0m\u001b[1;34m'step'\u001b[0m\u001b[1;33m]\u001b[0m\u001b[1;33m\u001b[0m\u001b[0m\n",
      "\u001b[1;31mKeyboardInterrupt\u001b[0m: "
     ]
    }
   ],
   "source": [
    "# Hyper parameters\n",
    "latent_dim = 100\n",
    "lr = 0.0002\n",
    "b1 = 0.5\n",
    "b2 = 0.999\n",
    "nc = 3\n",
    "batch_size = 64\n",
    "n_epochs = 200\n",
    "sample_interval = 10\n",
    "img_size = 64\n",
    "\n",
    "img_shape = (nc, img_size, img_size)\n",
    "\n",
    "\n",
    "# Configure data loader\n",
    "dataloader = torch.utils.data.DataLoader(\n",
    "    datasets.CIFAR10('../../datasets/cifar10/', train=True, download=True,\n",
    "                     transform=transforms.Compose([\n",
    "                         transforms.Resize((img_size, img_size), Image.BICUBIC),\n",
    "                         transforms.ToTensor(),\n",
    "                         transforms.Normalize((0.5, 0.5, 0.5), (0.5, 0.5, 0.5))\n",
    "                     ])), batch_size=batch_size, shuffle=True)\n",
    "\n",
    "# GAN Loss function\n",
    "adversarial_loss = nn.BCELoss()\n",
    "\n",
    "# Initialize generator and discriminator\n",
    "generator = network.Generator(latent_dim=latent_dim, img_shape=img_shape)\n",
    "discriminator = network.Discriminator(img_shape=img_shape)\n",
    "\n",
    "if cuda:\n",
    "    generator.cuda()\n",
    "    discriminator.cuda()\n",
    "    adversarial_loss.cuda()\n",
    "    \n",
    "# Optimizers\n",
    "optimizer_G = torch.optim.Adam(generator.parameters(), lr=lr, betas=(b1, b2))\n",
    "optimizer_D = torch.optim.Adam(discriminator.parameters(), lr=lr, betas=(b1, b2))\n",
    "\n",
    "\n",
    "# gpu or cpu\n",
    "Tensor = torch.cuda.FloatTensor if cuda else torch.FloatTensor\n",
    "\n",
    "##################\n",
    "#    Training    #      \n",
    "##################\n",
    "\n",
    "for epoch in range(n_epochs):\n",
    "    for i, (imgs, _) in enumerate(dataloader):\n",
    "        \n",
    "        # Configure real images and ground truths\n",
    "        real_imgs = Variable(imgs.type(Tensor))\n",
    "        valid = Variable(Tensor(imgs.shape[0], 1).fill_(1.0), requires_grad=False)\n",
    "        fake = Variable(Tensor(imgs.shape[0], 1).fill_(0.0), requires_grad=False)\n",
    "        \n",
    "        \n",
    "        ##############################\n",
    "        #    Traini Discriminator    #      \n",
    "        ##############################        \n",
    "        optimizer_D.zero_grad()\n",
    "        \n",
    "        # Configure noise vector\n",
    "        z = Variable(Tensor(np.random.normal(0, 1, (batch_size, latent_dim))))\n",
    "        \n",
    "        # Generate a fake images\n",
    "        fake_imgs = generator(z, img_shape)\n",
    "        \n",
    "        # get loss for discriminator\n",
    "        real_loss = (adversarial_loss(discriminator(real_imgs), valid))\n",
    "        fake_loss = (adversarial_loss(discriminator(fake_imgs.detach()), fake))\n",
    "        discriminator_loss = (real_loss + fake_loss) / 2\n",
    "        \n",
    "        # update discriminator\n",
    "        discriminator_loss.backward()\n",
    "        optimizer_D.step()\n",
    "        \n",
    "        \n",
    "        ##########################\n",
    "        #    Traini Generator    #      \n",
    "        ##########################\n",
    "        generator.zero_grad()\n",
    "        \n",
    "        # get loss for generator\n",
    "        generator_loss = adversarial_loss(discriminator(fake_imgs), valid)\n",
    "        \n",
    "        # update generator\n",
    "        generator_loss.backward()\n",
    "        optimizer_G.step()\n",
    "        \n",
    "        print (\"[Epoch %d/%d] [Batch %d/%d] [D loss: %f] [G loss: %f]\" \n",
    "               % (epoch, n_epochs, i, len(dataloader), discriminator_loss.item(), generator_loss.item()))\n",
    "        \n",
    "        \n",
    "        #-----------------------------\n",
    "        #    save model pre epoch    #    \n",
    "        #-----------------------------\n",
    "        batches_done = epoch * len(dataloader) + i\n",
    "        if batches_done % sample_interval == 0:\n",
    "            save_image(fake_imgs.data[:25], '../images/%d.png' % batches_done, nrow=5, normalize=True)\n",
    "            torch.save(discriminator, f'../chkpts/d_{epoch:03d}.pth')\n",
    "            torch.save(generator, f'../chkpts/g_{epoch:03d}.pth')"
   ]
  },
  {
   "cell_type": "code",
   "execution_count": null,
   "metadata": {},
   "outputs": [],
   "source": []
  }
 ],
 "metadata": {
  "kernelspec": {
   "display_name": "Pytorch",
   "language": "python",
   "name": "pytorch"
  },
  "language_info": {
   "codemirror_mode": {
    "name": "ipython",
    "version": 3
   },
   "file_extension": ".py",
   "mimetype": "text/x-python",
   "name": "python",
   "nbconvert_exporter": "python",
   "pygments_lexer": "ipython3",
   "version": "3.6.5"
  }
 },
 "nbformat": 4,
 "nbformat_minor": 2
}
